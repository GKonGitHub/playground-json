{
 "cells": [
  {
   "cell_type": "code",
   "execution_count": 2,
   "metadata": {},
   "outputs": [],
   "source": [
    "import pandas as pd\n",
    "import json\n",
    "from collections import OrderedDict\n",
    "from itertools import islice\n",
    "from openpyxl import load_workbook\n"
   ]
  },
  {
   "cell_type": "code",
   "execution_count": 15,
   "metadata": {},
   "outputs": [],
   "source": [
    "\n",
    "# Open the workbook and select a worksheet\n",
    "wb = load_workbook('data.xlsx')\n",
    "sheet = wb['data']\n",
    "\n",
    "# List to hold dictionaries\n",
    "data_list = []\n",
    "\n",
    "# Iterate through each row in worksheet and fetch values into dict\n",
    "for row in islice(sheet.values, 1, sheet.max_row):\n",
    "    df = OrderedDict()\n",
    "    df['name'] = row[0]\n",
    "    df['age'] = row[1]\n",
    "    data_list.append(df)\n",
    "\n",
    "# Serialize the list of dicts to JSON\n",
    "j = json.dumps(data_list)\n",
    "\n",
    "# Write to file\n",
    "with open('data.json', 'w') as f:\n",
    "    f.write(j)"
   ]
  },
  {
   "cell_type": "code",
   "execution_count": 11,
   "metadata": {},
   "outputs": [
    {
     "name": "stdout",
     "output_type": "stream",
     "text": [
      "Excel Sheet to JSON:\n",
      " {\"name\":{\"0\":\"bob\",\"1\":\"sam\",\"2\":\"jason\",\"3\":\"tom\"},\"age\":{\"0\":25.0,\"1\":85.0,\"2\":35.0,\"3\":45.0}}\n"
     ]
    }
   ],
   "source": [
    "excel_data_df = pd.read_excel('data.xlsx', sheet_name='data')\n",
    "\n",
    "json_str = excel_data_df.to_json()\n",
    "\n",
    "print('Excel Sheet to JSON:\\n', json_str)\n",
    "\n",
    "# Write to file\n",
    "with open('data.json', 'w') as f:\n",
    "    f.write(json_str)\n",
    "\n"
   ]
  },
  {
   "cell_type": "markdown",
   "metadata": {},
   "source": [
    "API (Application Programming Interface) results are commonly used by applications, sometimes to withdraw information from their huge databases, check the status of a particular data, or sometimes they depend on third-party APIs to display additional information related to users.\n",
    "Make a simple public JSON based API, which can be used in any programming language to display the results."
   ]
  },
  {
   "cell_type": "markdown",
   "metadata": {},
   "source": [
    "Steps to create API:\n",
    "\n",
    "Step 1: Install Node.js\n",
    "Step 2: Initialize a blank folder, in which you would build the API. In that folder, create a blank JS file, called index.js .Index of Node.js is the file that runs initially once the Node.js code is executed. It is responsible for your application's startup, routing, and other functions.\n",
    "Step 3: Open command prompt and go to the created directory by using CD (path of the folder).\n",
    "Step 4: Type npm init and go through the steps, answering the asked questions."
   ]
  },
  {
   "cell_type": "code",
   "execution_count": null,
   "metadata": {},
   "outputs": [],
   "source": []
  }
 ],
 "metadata": {
  "kernelspec": {
   "display_name": "Python 3.9.7 ('base')",
   "language": "python",
   "name": "python3"
  },
  "language_info": {
   "codemirror_mode": {
    "name": "ipython",
    "version": 3
   },
   "file_extension": ".py",
   "mimetype": "text/x-python",
   "name": "python",
   "nbconvert_exporter": "python",
   "pygments_lexer": "ipython3",
   "version": "3.9.7"
  },
  "orig_nbformat": 4,
  "vscode": {
   "interpreter": {
    "hash": "e42f31fcc907b4dad0eeb690e923f9f3ed980f58489c6bb66807e4d8ed929da9"
   }
  }
 },
 "nbformat": 4,
 "nbformat_minor": 2
}
