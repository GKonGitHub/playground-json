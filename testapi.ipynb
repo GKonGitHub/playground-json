{
 "cells": [
  {
   "cell_type": "code",
   "execution_count": 109,
   "metadata": {},
   "outputs": [
    {
     "name": "stdout",
     "output_type": "stream",
     "text": [
      "Success!\n"
     ]
    }
   ],
   "source": [
    "import pandas as pd\n",
    "import requests\n",
    "from requests.exceptions import HTTPError\n",
    "from requests.auth import HTTPBasicAuth\n",
    "\n",
    "#Signin\n",
    "\n",
    "\n",
    "data = {\n",
    "\"CommandType\":\"SignIn\", \n",
    "\"CSIOnetID\":\"csioxml14@broker.edi.csio.com\",\n",
    "\"CSIOnetPassword\":\"abcd1234\"\n",
    "}\n",
    "\n",
    "headers = {'Content-type': 'application/json', 'Accept': 'text/plain'}\n",
    "\n",
    "try:\n",
    "    #response = requests.post('https://staging.csionet.com/signin', verify = False, auth = HTTPBasicAuth(('csioxml14@broker.edi.csio.com'), getpass()))\n",
    "    response = requests.post('https://staging.csionet.com/v1/MessageServices.aspx', json = data, headers = headers)\n",
    "    response.raise_for_status \n",
    "except HTTPError as http_err:\n",
    "    print(f'HTTP error ocurred: {http_err}')\n",
    "\n",
    "except Exception as err:\n",
    "    print(f'Other error occurred: {err}')\n",
    "\n",
    "else:\n",
    "    print('Success!')"
   ]
  },
  {
   "cell_type": "code",
   "execution_count": 110,
   "metadata": {},
   "outputs": [
    {
     "data": {
      "text/plain": [
       "{'Response': {'SessionGUID': '08268b6b-c892-41ab-86a7-0f273a1c52e2',\n",
       "  'UserGUID': '546ad954-3e28-11ec-9bbc-0242ac130002',\n",
       "  'Status': 'Success'}}"
      ]
     },
     "execution_count": 110,
     "metadata": {},
     "output_type": "execute_result"
    }
   ],
   "source": [
    "response.json()"
   ]
  },
  {
   "cell_type": "code",
   "execution_count": 111,
   "metadata": {},
   "outputs": [],
   "source": [
    "j = response.text"
   ]
  },
  {
   "cell_type": "code",
   "execution_count": 112,
   "metadata": {},
   "outputs": [],
   "source": [
    "import json"
   ]
  },
  {
   "cell_type": "code",
   "execution_count": 113,
   "metadata": {},
   "outputs": [],
   "source": [
    "with open(\"signin.json\", \"w\") as outfile:\n",
    "    outfile.write(j)\n",
    "\n",
    "  "
   ]
  },
  {
   "cell_type": "code",
   "execution_count": 114,
   "metadata": {},
   "outputs": [],
   "source": [
    "f = open('signin.json')"
   ]
  },
  {
   "cell_type": "code",
   "execution_count": 115,
   "metadata": {},
   "outputs": [],
   "source": [
    "# returns JSON object as\n",
    "# a dictionary\n",
    "data = json.load(f)"
   ]
  },
  {
   "cell_type": "code",
   "execution_count": 116,
   "metadata": {},
   "outputs": [
    {
     "data": {
      "text/plain": [
       "{'Response': {'SessionGUID': '08268b6b-c892-41ab-86a7-0f273a1c52e2',\n",
       "  'UserGUID': '546ad954-3e28-11ec-9bbc-0242ac130002',\n",
       "  'Status': 'Success'}}"
      ]
     },
     "execution_count": 116,
     "metadata": {},
     "output_type": "execute_result"
    }
   ],
   "source": [
    "data"
   ]
  },
  {
   "cell_type": "code",
   "execution_count": 117,
   "metadata": {},
   "outputs": [
    {
     "name": "stdout",
     "output_type": "stream",
     "text": [
      "Response -> {'SessionGUID': '08268b6b-c892-41ab-86a7-0f273a1c52e2', 'UserGUID': '546ad954-3e28-11ec-9bbc-0242ac130002', 'Status': 'Success'}\n"
     ]
    }
   ],
   "source": [
    "# Iterating through the json\n",
    "# list\n",
    "for key, value in data.items():\n",
    "    print(key, '->', value)\n",
    "\n",
    "s = data['Response']['SessionGUID']\n",
    "u = data['Response']['UserGUID']\n",
    "\n",
    "f.close()"
   ]
  },
  {
   "cell_type": "code",
   "execution_count": 118,
   "metadata": {},
   "outputs": [
    {
     "name": "stdout",
     "output_type": "stream",
     "text": [
      "08268b6b-c892-41ab-86a7-0f273a1c52e2\n"
     ]
    }
   ],
   "source": [
    "print(s)"
   ]
  },
  {
   "cell_type": "markdown",
   "metadata": {},
   "source": [
    "<Request>\n",
    "<CommandType>Send</CommandType>\n",
    "<SessionGUID>{{sessionGUID}}</SessionGUID>\n",
    "<UserGUID>{{userGUID}}</UserGUID>\n",
    "<ToEmailAddress>{{csionetEmailRecipient}}</ToEmailAddress>\n",
    "<FromEmailAddress>{{csionetEmail}}</FromEmailAddress>\n",
    "<MessageType>{{messageType}}</MessageType>\n",
    "<MessageSubject>XML Xmit Msg-Id#:{{timestamp}}.{{csionetEmail}} </MessageSubject>\n",
    "<Attachments count=\"2\">\n",
    "<Attachment filename=\"{{filenameEDoc1}}\" mimetype=\"text/xml\">{{fileEDoc1}}\n",
    "</Attachment>\n",
    "<Attachment filename=\"{{filenameEDoc2}}\" mimetype=\"application/pdf\">{{fileEDoc2}}\n",
    "</Attachment>\n",
    "</Attachments>\n",
    "</Request>"
   ]
  },
  {
   "cell_type": "code",
   "execution_count": 195,
   "metadata": {},
   "outputs": [],
   "source": [
    "#build the XML request body \n",
    "import xml.etree.ElementTree as et\n",
    "\n",
    "request = et.Element(\"Request\")\n",
    "\n",
    "commandtype = et.SubElement(request, \"CommandType\")\n",
    "commandtype.text = \"Send\"\n",
    "\n",
    "\n",
    "sessionguid = et.SubElement(request, \"SessionGUID\")\n",
    "sessionguid.text = s\n",
    "\n",
    "\n",
    "userguid = et.SubElement(request, \"UserGUID\")\n",
    "userguid.text = u\n",
    "\n",
    "toemailaddress = et.SubElement(request, \"ToEmailAddress\")\n",
    "toemailaddress.text = \"csioxml14@broker.edi.csio.com\"\n",
    "\n",
    "\n",
    "fromemailaddress =  et.SubElement(request, \"FromEmailAddress\")\n",
    "fromemailaddress.text = \"csioxml14@broker.edi.csio.com\"\n",
    "\n",
    "\n",
    "messagetype =  et.SubElement(request, \"MessageType\")\n",
    "messagetype.text = \"EDOC\"\n",
    "\n",
    "\n",
    "messagesubject =  et.SubElement(request, \"MessageSubject\")\n",
    "messagesubject.text = \"XML Xmit Msg-Id#:1TestMessage\"\n",
    "\n",
    "\n",
    "attribs = {\"count\":\"1\"}\n",
    "\n",
    "attachments =  et.SubElement(request, \"Attachments\", attrib=attribs)\n",
    "attachments.text = \"Attachments\"\n",
    "\n",
    "\n",
    "attrib1 = {\"filename\": \"1.pdf\" }\n",
    "attrib2 = {\"mimetype\": \"application/pdf\" }\n",
    "attrib3 = {\"filename\": \"2.pdf\" }\n",
    "attrib4 = {\"mimetype\": \"application/pdf\" }\n",
    "\n",
    "attachment1 =  et.SubElement(attachments, \"Attachment\")\n",
    "attachment1.text = \"Attachment\"\n",
    "attachment1.set(\"filename\", \"1.pdf\")\n",
    "attachment1.set(\"mimetype\", \"application/pdf\")\n",
    "\n",
    "\n",
    "attachment2 =  et.SubElement(attachments, \"Attachment\")\n",
    "attachment2.text = \"Attachment\"\n",
    "attachment2.set(\"filename\", \"1.pdf\")\n",
    "attachment2.set(\"mimetype\", \"application/pdf\")\n",
    "\n",
    "\n",
    "\n",
    "data = et.tostring(request)\n",
    "\n"
   ]
  },
  {
   "cell_type": "code",
   "execution_count": 196,
   "metadata": {},
   "outputs": [
    {
     "data": {
      "text/plain": [
       "b'<Request><CommandType>Send</CommandType><SessionGUID>08268b6b-c892-41ab-86a7-0f273a1c52e2</SessionGUID><UserGUID>546ad954-3e28-11ec-9bbc-0242ac130002</UserGUID><ToEmailAddress>csioxml14@broker.edi.csio.com</ToEmailAddress><FromEmailAddress>csioxml14@broker.edi.csio.com</FromEmailAddress><MessageType>EDOC</MessageType><MessageSubject>XML Xmit Msg-Id#:1TestMessage</MessageSubject><Attachments count=\"1\">Attachments<Attachment filename=\"1.pdf\" mimetype=\"application/pdf\">Attachment</Attachment><Attachment filename=\"1.pdf\" mimetype=\"application/pdf\">Attachment</Attachment></Attachments></Request>'"
      ]
     },
     "execution_count": 196,
     "metadata": {},
     "output_type": "execute_result"
    }
   ],
   "source": [
    "data"
   ]
  },
  {
   "cell_type": "code",
   "execution_count": 197,
   "metadata": {},
   "outputs": [
    {
     "name": "stdout",
     "output_type": "stream",
     "text": [
      "Success!\n"
     ]
    }
   ],
   "source": [
    "#use the XML as a request body \n",
    "\n",
    "\n",
    "headers = {'Content-type': 'application/xml', 'Accept': 'text/plain'}\n",
    "\n",
    "try:\n",
    "    #response = requests.post('https://staging.csionet.com/signin', verify = False, auth = HTTPBasicAuth(('csioxml14@broker.edi.csio.com'), getpass()))\n",
    "    response = requests.post('https://staging.csionet.com/v1/MessageServices.aspx', data = data, headers = headers)\n",
    "    response.raise_for_status \n",
    "except HTTPError as http_err:\n",
    "    print(f'HTTP error ocurred: {http_err}')\n",
    "\n",
    "except Exception as err:\n",
    "    print(f'Other error occurred: {err}')\n",
    "\n",
    "else:\n",
    "    print('Success!')"
   ]
  },
  {
   "cell_type": "code",
   "execution_count": 198,
   "metadata": {},
   "outputs": [
    {
     "data": {
      "text/plain": [
       "'<Response>\\n    <Status>Success</Status>\\n</Response>'"
      ]
     },
     "execution_count": 198,
     "metadata": {},
     "output_type": "execute_result"
    }
   ],
   "source": [
    "response.text"
   ]
  },
  {
   "cell_type": "markdown",
   "metadata": {},
   "source": [
    "Sept 28 - list messages  "
   ]
  },
  {
   "cell_type": "code",
   "execution_count": 199,
   "metadata": {},
   "outputs": [
    {
     "name": "stdout",
     "output_type": "stream",
     "text": [
      "Success!\n"
     ]
    }
   ],
   "source": [
    "#use the session guid to list , using requests library \n",
    "\n",
    "\n",
    "data = {\n",
    "\"CommandType\":\"List\", \n",
    "\"SessionGUID\":s,\n",
    "\"UserGUID\":u,\n",
    "\"FromDateTime\":\"2022-09-10\", \n",
    "\"ToDateTime\":\"2022-09-29\",\n",
    "\"Page\":\"1\",\n",
    "\"PageSize\":\"5\"\n",
    "}\n",
    "\n",
    "\n",
    "headers = {'Content-type': 'application/json', 'Accept': 'text/plain'}\n",
    "\n",
    "try:\n",
    "    #response = requests.post('https://staging.csionet.com/signin', verify = False, auth = HTTPBasicAuth(('csioxml14@broker.edi.csio.com'), getpass()))\n",
    "    response = requests.post('https://staging.csionet.com/v1/MessageServices.aspx', json = data, headers = headers)\n",
    "    response.raise_for_status \n",
    "except HTTPError as http_err:\n",
    "    print(f'HTTP error ocurred: {http_err}')\n",
    "\n",
    "except Exception as err:\n",
    "    print(f'Other error occurred: {err}')\n",
    "\n",
    "else:\n",
    "    print('Success!')\n",
    "\n"
   ]
  },
  {
   "cell_type": "code",
   "execution_count": 200,
   "metadata": {},
   "outputs": [
    {
     "data": {
      "text/plain": [
       "'{\"Response\":{\"Message\":[{\"MessageGUID\":\"4123394175.4\",\"FromEmailAddress\":\"csioxml14@broker.edi.csio.com\",\"MessageType\":\"ACK\",\"MessageSubject\":\"ACKTestMessage\",\"DateTime\":\"2022-09-28T20:45:55.973Z\",\"MessageSize\":912},{\"MessageGUID\":\"4123394175.5\",\"FromEmailAddress\":\"csioxml14@broker.edi.csio.com\",\"MessageType\":\"ACK\",\"MessageSubject\":\"ACKTestMessage\",\"DateTime\":\"2022-09-28T20:49:30.669Z\",\"MessageSize\":919},{\"MessageGUID\":\"4123394175.6\",\"FromEmailAddress\":\"csioxml14@broker.edi.csio.com\",\"MessageType\":\"EDOC\",\"MessageSubject\":\"XMLTestMessage\",\"DateTime\":\"2022-09-28T21:45:55.362Z\",\"MessageSize\":1266},{\"MessageGUID\":\"4123394175.7\",\"FromEmailAddress\":\"csioxml14@broker.edi.csio.com\",\"MessageType\":\"EDOC\",\"MessageSubject\":\"XML Xmit Msg-Id#:1TestMessage\",\"DateTime\":\"2022-09-28T22:55:52.438Z\",\"MessageSize\":1282}],\"PageNumber\":\"1\",\"MessagesOnPage\":4,\"MessagesAvailable\":4,\"Status\":\"Success\"}}'"
      ]
     },
     "execution_count": 200,
     "metadata": {},
     "output_type": "execute_result"
    }
   ],
   "source": [
    "response.text"
   ]
  },
  {
   "cell_type": "code",
   "execution_count": 201,
   "metadata": {},
   "outputs": [],
   "source": [
    "j = response.text\n",
    "with open(\"messageid.json\", \"w\") as outfile:\n",
    "    outfile.write(j)\n",
    "f = open('messageid.json')\n",
    "# returns JSON object as\n",
    "# a dictionary\n",
    "data = json.load(f)\n",
    "\n",
    "# list\n",
    "m = []\n",
    "for key in data.keys():\n",
    "    m.append(data[key])\n",
    "\n",
    "\n",
    "f.close()"
   ]
  },
  {
   "cell_type": "code",
   "execution_count": 202,
   "metadata": {},
   "outputs": [
    {
     "data": {
      "text/plain": [
       "[{'Message': [{'MessageGUID': '4123394175.4',\n",
       "    'FromEmailAddress': 'csioxml14@broker.edi.csio.com',\n",
       "    'MessageType': 'ACK',\n",
       "    'MessageSubject': 'ACKTestMessage',\n",
       "    'DateTime': '2022-09-28T20:45:55.973Z',\n",
       "    'MessageSize': 912},\n",
       "   {'MessageGUID': '4123394175.5',\n",
       "    'FromEmailAddress': 'csioxml14@broker.edi.csio.com',\n",
       "    'MessageType': 'ACK',\n",
       "    'MessageSubject': 'ACKTestMessage',\n",
       "    'DateTime': '2022-09-28T20:49:30.669Z',\n",
       "    'MessageSize': 919},\n",
       "   {'MessageGUID': '4123394175.6',\n",
       "    'FromEmailAddress': 'csioxml14@broker.edi.csio.com',\n",
       "    'MessageType': 'EDOC',\n",
       "    'MessageSubject': 'XMLTestMessage',\n",
       "    'DateTime': '2022-09-28T21:45:55.362Z',\n",
       "    'MessageSize': 1266},\n",
       "   {'MessageGUID': '4123394175.7',\n",
       "    'FromEmailAddress': 'csioxml14@broker.edi.csio.com',\n",
       "    'MessageType': 'EDOC',\n",
       "    'MessageSubject': 'XML Xmit Msg-Id#:1TestMessage',\n",
       "    'DateTime': '2022-09-28T22:55:52.438Z',\n",
       "    'MessageSize': 1282}],\n",
       "  'PageNumber': '1',\n",
       "  'MessagesOnPage': 4,\n",
       "  'MessagesAvailable': 4,\n",
       "  'Status': 'Success'}]"
      ]
     },
     "execution_count": 202,
     "metadata": {},
     "output_type": "execute_result"
    }
   ],
   "source": [
    "m"
   ]
  },
  {
   "cell_type": "code",
   "execution_count": 203,
   "metadata": {},
   "outputs": [],
   "source": [
    "messages = list(map(lambda x : x['Message'], m))\n"
   ]
  },
  {
   "cell_type": "code",
   "execution_count": 204,
   "metadata": {},
   "outputs": [],
   "source": [
    "messageid = list(map(lambda x : x['MessageGUID'], messages[0]))"
   ]
  },
  {
   "cell_type": "code",
   "execution_count": 205,
   "metadata": {},
   "outputs": [
    {
     "data": {
      "text/plain": [
       "['4123394175.4', '4123394175.5', '4123394175.6', '4123394175.7']"
      ]
     },
     "execution_count": 205,
     "metadata": {},
     "output_type": "execute_result"
    }
   ],
   "source": [
    "messageid"
   ]
  },
  {
   "cell_type": "markdown",
   "metadata": {},
   "source": [
    "Retrieve messages \n",
    "\n",
    "\n",
    "{\n",
    "\"CommandType\":\"Retrieve\", \n",
    "\"SessionGUID\":\"{{sessionGUID}}\",\n",
    "\"UserGUID\":\"{{userGUID}}\",\n",
    "\"MessageGUID\":\"{{messageGUID}\", \n",
    "\"Delete\":\"{{delete}}\"\n",
    "}\n",
    "\n",
    "\n"
   ]
  },
  {
   "cell_type": "code",
   "execution_count": 206,
   "metadata": {},
   "outputs": [
    {
     "name": "stdout",
     "output_type": "stream",
     "text": [
      "Success!\n"
     ]
    }
   ],
   "source": [
    "#use the session guid to retrieve, using requests library \n",
    "\n",
    "data = {\n",
    "\"CommandType\":\"Retrieve\", \n",
    "\"SessionGUID\":s,\n",
    "\"UserGUID\":u,\n",
    "\"MessageGUID\":messageid[0], \n",
    "\"Delete\":\"0\" \n",
    "}\n",
    "\n",
    "\n",
    "headers = {'Content-type': 'application/json', 'Accept': 'text/plain'}\n",
    "\n",
    "try:\n",
    "    #response = requests.post('https://staging.csionet.com/signin', verify = False, auth = HTTPBasicAuth(('csioxml14@broker.edi.csio.com'), getpass()))\n",
    "    response = requests.post('https://staging.csionet.com/v1/MessageServices.aspx', json = data, headers = headers)\n",
    "    response.raise_for_status \n",
    "except HTTPError as http_err:\n",
    "    print(f'HTTP error ocurred: {http_err}')\n",
    "\n",
    "except Exception as err:\n",
    "    print(f'Other error occurred: {err}')\n",
    "\n",
    "else:\n",
    "    print('Success!')"
   ]
  },
  {
   "cell_type": "code",
   "execution_count": 207,
   "metadata": {},
   "outputs": [
    {
     "data": {
      "text/plain": [
       "'{\"Response\":{\"MessageGUID\":\"4123394175.4\",\"FromEmailAddress\":\"csioxml14@broker.edi.csio.com\",\"MessageType\":\"ACK\",\"MessageSubject\":\"ACKTestMessage\",\"Status\":\"Success\"}}'"
      ]
     },
     "execution_count": 207,
     "metadata": {},
     "output_type": "execute_result"
    }
   ],
   "source": [
    "response.text"
   ]
  },
  {
   "cell_type": "markdown",
   "metadata": {},
   "source": [
    "Delete message \n",
    "\n",
    "\n",
    "{\n",
    "\"CommandType\":\"Delete\", \n",
    "\"SessionGUID\":\"{{sessionGUID}}\",\n",
    "\"UserGUID\":\"{{userGUID}}\",\n",
    "\"MessageGUID\":\"{{messageGUID}}\"\n",
    "}"
   ]
  },
  {
   "cell_type": "code",
   "execution_count": 208,
   "metadata": {},
   "outputs": [
    {
     "name": "stdout",
     "output_type": "stream",
     "text": [
      "Success!\n"
     ]
    }
   ],
   "source": [
    "#use the session guid to delete , using requests library \n",
    "\n",
    "\n",
    "\n",
    "data = {\n",
    "\"CommandType\":\"Delete\", \n",
    "\"SessionGUID\":s,\n",
    "\"UserGUID\":u,\n",
    "\"MessageGUID\":messageid[0]\n",
    "}\n",
    "\n",
    "\n",
    "headers = {'Content-type': 'application/json', 'Accept': 'text/plain'}\n",
    "\n",
    "try:\n",
    "    #response = requests.post('https://staging.csionet.com/signin', verify = False, auth = HTTPBasicAuth(('csioxml14@broker.edi.csio.com'), getpass()))\n",
    "    response = requests.post('https://staging.csionet.com/v1/MessageServices.aspx', json = data, headers = headers)\n",
    "    response.raise_for_status \n",
    "except HTTPError as http_err:\n",
    "    print(f'HTTP error ocurred: {http_err}')\n",
    "\n",
    "except Exception as err:\n",
    "    print(f'Other error occurred: {err}')\n",
    "\n",
    "else:\n",
    "    print('Success!')"
   ]
  },
  {
   "cell_type": "code",
   "execution_count": 209,
   "metadata": {},
   "outputs": [
    {
     "data": {
      "text/plain": [
       "'{\"Response\":{\"MessageGUID\":\"4123394175.4\",\"Status\":\"Success\"}}'"
      ]
     },
     "execution_count": 209,
     "metadata": {},
     "output_type": "execute_result"
    }
   ],
   "source": [
    "response.text"
   ]
  }
 ],
 "metadata": {
  "kernelspec": {
   "display_name": "Python 3.7.9 64-bit",
   "language": "python",
   "name": "python3"
  },
  "language_info": {
   "codemirror_mode": {
    "name": "ipython",
    "version": 3
   },
   "file_extension": ".py",
   "mimetype": "text/x-python",
   "name": "python",
   "nbconvert_exporter": "python",
   "pygments_lexer": "ipython3",
   "version": "3.7.9"
  },
  "orig_nbformat": 4,
  "vscode": {
   "interpreter": {
    "hash": "b228974853e373844ddd40a174aebd8f9916d4e300af2888a92e3a526d09df3a"
   }
  }
 },
 "nbformat": 4,
 "nbformat_minor": 2
}
