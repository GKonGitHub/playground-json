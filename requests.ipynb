{
 "cells": [
  {
   "cell_type": "code",
   "execution_count": 2,
   "metadata": {},
   "outputs": [],
   "source": [
    "import pandas as pd\n",
    "import requests\n",
    "from requests.exceptions import HTTPError"
   ]
  },
  {
   "cell_type": "code",
   "execution_count": 5,
   "metadata": {},
   "outputs": [
    {
     "data": {
      "text/html": [
       "<div>\n",
       "<style scoped>\n",
       "    .dataframe tbody tr th:only-of-type {\n",
       "        vertical-align: middle;\n",
       "    }\n",
       "\n",
       "    .dataframe tbody tr th {\n",
       "        vertical-align: top;\n",
       "    }\n",
       "\n",
       "    .dataframe thead th {\n",
       "        text-align: right;\n",
       "    }\n",
       "</style>\n",
       "<table border=\"1\" class=\"dataframe\">\n",
       "  <thead>\n",
       "    <tr style=\"text-align: right;\">\n",
       "      <th></th>\n",
       "      <th>Unnamed: 0</th>\n",
       "      <th>Source</th>\n",
       "      <th>websites</th>\n",
       "    </tr>\n",
       "  </thead>\n",
       "  <tbody>\n",
       "    <tr>\n",
       "      <th>0</th>\n",
       "      <td>0</td>\n",
       "      <td>Agencia Latinoamericana de Información</td>\n",
       "      <td>http://www.alainet.org/</td>\n",
       "    </tr>\n",
       "    <tr>\n",
       "      <th>1</th>\n",
       "      <td>1</td>\n",
       "      <td>Asociación Técnica de Diarios Latinoamericanos</td>\n",
       "      <td>http://www.atdl.org/</td>\n",
       "    </tr>\n",
       "    <tr>\n",
       "      <th>2</th>\n",
       "      <td>2</td>\n",
       "      <td>CANANEWS</td>\n",
       "      <td>http://www.cananews.net/</td>\n",
       "    </tr>\n",
       "    <tr>\n",
       "      <th>3</th>\n",
       "      <td>3</td>\n",
       "      <td>Information Services Latin America</td>\n",
       "      <td>http://isla.igc.org/</td>\n",
       "    </tr>\n",
       "    <tr>\n",
       "      <th>4</th>\n",
       "      <td>4</td>\n",
       "      <td>Latin American Newsletters</td>\n",
       "      <td>http://www.latinnews.com/</td>\n",
       "    </tr>\n",
       "  </tbody>\n",
       "</table>\n",
       "</div>"
      ],
      "text/plain": [
       "   Unnamed: 0                                          Source  \\\n",
       "0           0          Agencia Latinoamericana de Información   \n",
       "1           1  Asociación Técnica de Diarios Latinoamericanos   \n",
       "2           2                                        CANANEWS   \n",
       "3           3              Information Services Latin America   \n",
       "4           4                      Latin American Newsletters   \n",
       "\n",
       "                    websites  \n",
       "0    http://www.alainet.org/  \n",
       "1       http://www.atdl.org/  \n",
       "2   http://www.cananews.net/  \n",
       "3       http://isla.igc.org/  \n",
       "4  http://www.latinnews.com/  "
      ]
     },
     "execution_count": 5,
     "metadata": {},
     "output_type": "execute_result"
    }
   ],
   "source": [
    "df = pd.read_csv(\"data/websites.csv\")\n",
    "df.head()"
   ]
  },
  {
   "cell_type": "code",
   "execution_count": 6,
   "metadata": {},
   "outputs": [],
   "source": [
    "all_sources = []"
   ]
  },
  {
   "cell_type": "code",
   "execution_count": 7,
   "metadata": {},
   "outputs": [],
   "source": [
    "all_sources = df.values.tolist()"
   ]
  },
  {
   "cell_type": "code",
   "execution_count": 8,
   "metadata": {},
   "outputs": [],
   "source": [
    "#get domains to a list \n",
    "\n",
    "def get_sources_and_domains():\n",
    "    \n",
    "    sources = []\n",
    "    domains = []\n",
    "    for e in all_sources:\n",
    "        id = e[0]\n",
    "        domain = e[2].replace(\"http://\", \"\")\n",
    "        domain = domain.replace(\"https://\", \"\")\n",
    "        domain = domain.replace(\"www.\", \"\")\n",
    "        slash = domain.find('/')\n",
    "        if slash != -1:\n",
    "            domain = domain[:slash]\n",
    "        sources.append(e[1])\n",
    "        domains.append(domain)\n",
    "    sources = \", \".join(sources)\n",
    "    domains = \", \".join(domains)\n",
    "    return sources, domains"
   ]
  },
  {
   "cell_type": "code",
   "execution_count": 10,
   "metadata": {},
   "outputs": [],
   "source": [
    "sources, domains = get_sources_and_domains()"
   ]
  },
  {
   "cell_type": "code",
   "execution_count": 21,
   "metadata": {},
   "outputs": [],
   "source": [
    "#convert sources and domains to a list , they are in str format \n",
    "domains = domains.split(',');"
   ]
  },
  {
   "cell_type": "code",
   "execution_count": 29,
   "metadata": {},
   "outputs": [],
   "source": [
    "url = domains[0]"
   ]
  },
  {
   "cell_type": "code",
   "execution_count": 30,
   "metadata": {},
   "outputs": [],
   "source": [
    "url = \"https://\" + url"
   ]
  },
  {
   "cell_type": "code",
   "execution_count": 31,
   "metadata": {},
   "outputs": [
    {
     "data": {
      "text/plain": [
       "'https://alainet.org'"
      ]
     },
     "execution_count": 31,
     "metadata": {},
     "output_type": "execute_result"
    }
   ],
   "source": [
    "url"
   ]
  },
  {
   "cell_type": "code",
   "execution_count": 32,
   "metadata": {},
   "outputs": [
    {
     "data": {
      "text/plain": [
       "<Response [200]>"
      ]
     },
     "execution_count": 32,
     "metadata": {},
     "output_type": "execute_result"
    }
   ],
   "source": [
    "requests.get(url)"
   ]
  },
  {
   "cell_type": "code",
   "execution_count": 33,
   "metadata": {},
   "outputs": [],
   "source": [
    "#access status codes \n",
    "response = requests.get(url)"
   ]
  },
  {
   "cell_type": "code",
   "execution_count": 41,
   "metadata": {},
   "outputs": [
    {
     "name": "stdout",
     "output_type": "stream",
     "text": [
      "Success!\n"
     ]
    }
   ],
   "source": [
    "if response:\n",
    "    print('Success!')\n",
    "else:\n",
    "    print('Not Found')\n",
    "\n"
   ]
  },
  {
   "cell_type": "code",
   "execution_count": 46,
   "metadata": {},
   "outputs": [
    {
     "name": "stdout",
     "output_type": "stream",
     "text": [
      "Success!\n"
     ]
    }
   ],
   "source": [
    "#for w in url:\n",
    "try:\n",
    "\n",
    "    response = requests.get(url)\n",
    "    response.raise_for_status \n",
    "except HTTPError as http_err:\n",
    "    print(f'HTTP error ocurred: {http_err}')\n",
    "\n",
    "except Exception as err:\n",
    "    print(f'Other error occurred: {err}')\n",
    "\n",
    "else:\n",
    "    print('Success!')\n",
    "\n",
    "\n",
    "\n",
    "    "
   ]
  },
  {
   "cell_type": "code",
   "execution_count": 54,
   "metadata": {},
   "outputs": [],
   "source": [
    "#how to view the actual data \n",
    "#the response of a GET request has payload in the message body \n",
    "#use the attributes and methods of Response to view the payload in different formats \n",
    "\n",
    "#view content in bytes \n",
    "\n",
    "#response.content\n",
    "\n",
    "#response.encoding = 'utf-8'\n",
    "#response.text\n",
    "\n",
    "#response.json() - if response is serialized json content and we need to get a dictionary \n",
    "\n",
    "#metadta about the response - from response headers \n"
   ]
  },
  {
   "cell_type": "code",
   "execution_count": 55,
   "metadata": {},
   "outputs": [
    {
     "data": {
      "text/plain": [
       "{'Date': 'Sun, 25 Sep 2022 22:40:28 GMT', 'Server': 'ATS/7.1.11', 'Link': '<https://www.alai.info/wp-json/>; rel=\"https://api.w.org/\", <https://www.alai.info/wp-json/wp/v2/pages/888>; rel=\"alternate\"; type=\"application/json\", <https://www.alai.info/>; rel=shortlink', 'Vary': 'Accept-Encoding', 'Content-Encoding': 'gzip', 'Content-Type': 'text/html; charset=UTF-8', 'Age': '401', 'Content-Length': '60503', 'Connection': 'keep-alive', 'Via': 'http/1.1 ovh22.prod.deflect.ca (ApacheTrafficServer/7.1.11 [uScRs f p eN:t cCHi p s ])'}"
      ]
     },
     "execution_count": 55,
     "metadata": {},
     "output_type": "execute_result"
    }
   ],
   "source": [
    "#response headers \n",
    "response.headers"
   ]
  },
  {
   "cell_type": "code",
   "execution_count": 56,
   "metadata": {},
   "outputs": [
    {
     "data": {
      "text/plain": [
       "'text/html; charset=UTF-8'"
      ]
     },
     "execution_count": 56,
     "metadata": {},
     "output_type": "execute_result"
    }
   ],
   "source": [
    "response.headers['content-type']"
   ]
  },
  {
   "cell_type": "code",
   "execution_count": null,
   "metadata": {},
   "outputs": [],
   "source": [
    "#query string parameters \n"
   ]
  },
  {
   "cell_type": "code",
   "execution_count": null,
   "metadata": {},
   "outputs": [],
   "source": [
    "#POST\n",
    "\n",
    "#using requests, we pass the payload to the corresponding function's data parameter \n",
    "\n"
   ]
  },
  {
   "cell_type": "code",
   "execution_count": 57,
   "metadata": {},
   "outputs": [],
   "source": [
    "# now use requests with newsapi.org \n",
    "#https://staging.csionet.com/v1/MessageServies.aspx \n",
    "\n",
    "#pass sta through the Authorization header or a custom header defined by the service\n",
    "#parameter auth allows to pass credentials \n",
    "from getpass import getpass\n",
    "\n"
   ]
  },
  {
   "cell_type": "code",
   "execution_count": 3,
   "metadata": {},
   "outputs": [
    {
     "data": {
      "text/plain": [
       "<Response [405]>"
      ]
     },
     "execution_count": 3,
     "metadata": {},
     "output_type": "execute_result"
    }
   ],
   "source": [
    "from requests.auth import HTTPBasicAuth\n",
    "from getpass import getpass\n",
    "requests.get('https://staging.csionet.com/v1/MessageServices.aspx', auth = HTTPBasicAuth(('csioxml14'), getpass()))"
   ]
  },
  {
   "cell_type": "code",
   "execution_count": 24,
   "metadata": {},
   "outputs": [
    {
     "name": "stdout",
     "output_type": "stream",
     "text": [
      "Success!\n"
     ]
    }
   ],
   "source": [
    "import pandas as pd\n",
    "import requests\n",
    "from requests.exceptions import HTTPError\n",
    "from requests.auth import HTTPBasicAuth\n",
    "from getpass import getpass\n",
    "\n",
    "\n",
    "#data = {\n",
    "#    \"CSIOnetID\" : \"csioxml14@broker.edi.csio.com\",\n",
    "#    \"CS\n",
    "# \n",
    "# \n",
    "# IOnetPassword\" : \"Abcde12345!\" \n",
    "#}\n",
    "\n",
    "\n",
    "data = {\n",
    "\"CommandType\":\"SignIn\", \n",
    "\"CSIOnetID\":\"csioxml14@broker.edi.csio.com\",\n",
    "\"CSIOnetPassword\":\"abcd1234\"\n",
    "}\n",
    "\n",
    "headers = {'Content-type': 'application/json', 'Accept': 'text/plain'}\n",
    "\n",
    "try:\n",
    "    #response = requests.post('https://staging.csionet.com/signin', verify = False, auth = HTTPBasicAuth(('csioxml14@broker.edi.csio.com'), getpass()))\n",
    "    response = requests.post('https://staging.csionet.com/v1/MessageServices.aspx', json = data, headers = headers)\n",
    "    response.raise_for_status \n",
    "except HTTPError as http_err:\n",
    "    print(f'HTTP error ocurred: {http_err}')\n",
    "\n",
    "except Exception as err:\n",
    "    print(f'Other error occurred: {err}')\n",
    "\n",
    "else:\n",
    "    print('Success!')\n",
    "\n",
    "\n",
    "#405 - method not allowed \n",
    "\n",
    "#which request methods can be used ?\n",
    "\n",
    "#https://staging.csionet.com/v1/MessageServices.aspx/signin\n"
   ]
  },
  {
   "cell_type": "code",
   "execution_count": 25,
   "metadata": {},
   "outputs": [
    {
     "name": "stdout",
     "output_type": "stream",
     "text": [
      "{\"Response\":{\"SessionGUID\":\"f2f56bcd-7d7b-43aa-898a-ddbffccf2f51\",\"UserGUID\":\"546ad954-3e28-11ec-9bbc-0242ac130002\",\"Status\":\"Success\"}}\n"
     ]
    },
    {
     "data": {
      "text/plain": [
       "<Response [200]>"
      ]
     },
     "execution_count": 25,
     "metadata": {},
     "output_type": "execute_result"
    }
   ],
   "source": [
    "print(response.text)\n",
    "response"
   ]
  }
 ],
 "metadata": {
  "kernelspec": {
   "display_name": "Python 3.7.9 64-bit",
   "language": "python",
   "name": "python3"
  },
  "language_info": {
   "codemirror_mode": {
    "name": "ipython",
    "version": 3
   },
   "file_extension": ".py",
   "mimetype": "text/x-python",
   "name": "python",
   "nbconvert_exporter": "python",
   "pygments_lexer": "ipython3",
   "version": "3.7.9"
  },
  "orig_nbformat": 4,
  "vscode": {
   "interpreter": {
    "hash": "b228974853e373844ddd40a174aebd8f9916d4e300af2888a92e3a526d09df3a"
   }
  }
 },
 "nbformat": 4,
 "nbformat_minor": 2
}
